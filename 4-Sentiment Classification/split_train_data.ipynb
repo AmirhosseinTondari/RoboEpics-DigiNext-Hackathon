{
 "cells": [
  {
   "cell_type": "code",
   "execution_count": 1,
   "id": "7a3d63ea",
   "metadata": {},
   "outputs": [],
   "source": [
    "import pandas as pd"
   ]
  },
  {
   "cell_type": "code",
   "execution_count": 2,
   "id": "54ff4c53",
   "metadata": {},
   "outputs": [],
   "source": [
    "df = pd.read_csv('DATA/df_Normalized.csv', index_col=0)"
   ]
  },
  {
   "cell_type": "code",
   "execution_count": 4,
   "id": "30d78bbd",
   "metadata": {},
   "outputs": [],
   "source": [
    "df = df.sample(frac=1)"
   ]
  },
  {
   "cell_type": "code",
   "execution_count": 6,
   "id": "430564c7",
   "metadata": {},
   "outputs": [],
   "source": [
    "dfs = []\n",
    "for i in range(10):\n",
    "    i = i*9000\n",
    "    frac = df.iloc[i:i+9000]\n",
    "    dfs.append(frac)"
   ]
  },
  {
   "cell_type": "code",
   "execution_count": 10,
   "id": "e9809d12",
   "metadata": {},
   "outputs": [],
   "source": [
    "for i, df_s in enumerate(dfs):\n",
    "    df_s.to_csv(f'DATA/df_Normalized_part{i}.csv')"
   ]
  },
  {
   "cell_type": "code",
   "execution_count": null,
   "id": "d3d28ec7",
   "metadata": {},
   "outputs": [],
   "source": []
  }
 ],
 "metadata": {
  "kernelspec": {
   "display_name": "Python 3 (ipykernel)",
   "language": "python",
   "name": "python3"
  },
  "language_info": {
   "codemirror_mode": {
    "name": "ipython",
    "version": 3
   },
   "file_extension": ".py",
   "mimetype": "text/x-python",
   "name": "python",
   "nbconvert_exporter": "python",
   "pygments_lexer": "ipython3",
   "version": "3.10.11"
  }
 },
 "nbformat": 4,
 "nbformat_minor": 5
}
