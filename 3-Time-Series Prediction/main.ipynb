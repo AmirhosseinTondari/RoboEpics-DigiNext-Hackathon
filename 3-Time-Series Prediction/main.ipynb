{
 "cells": [
  {
   "cell_type": "code",
   "execution_count": 1,
   "metadata": {
    "_cell_guid": "b1076dfc-b9ad-4769-8c92-a6c4dae69d19",
    "_uuid": "8f2839f25d086af736a60e9eeb907d3b93b6e0e5",
    "execution": {
     "iopub.execute_input": "2024-03-17T08:35:24.518579Z",
     "iopub.status.busy": "2024-03-17T08:35:24.518201Z",
     "iopub.status.idle": "2024-03-17T08:35:40.678811Z",
     "shell.execute_reply": "2024-03-17T08:35:40.677705Z",
     "shell.execute_reply.started": "2024-03-17T08:35:24.518539Z"
    }
   },
   "outputs": [],
   "source": [
    "import numpy as np\n",
    "import pandas as pd\n",
    "\n",
    "import tensorflow as tf\n",
    "from tensorflow.keras import layers, optimizers, losses, metrics, models, callbacks\n",
    "\n",
    "from sklearn.metrics import f1_score\n",
    "from sklearn.model_selection import train_test_split as tts\n",
    "\n",
    "import matplotlib.pyplot as plt\n",
    "\n",
    "\n",
    "from tqdm import tqdm"
   ]
  },
  {
   "cell_type": "code",
   "execution_count": 3,
   "metadata": {
    "execution": {
     "iopub.execute_input": "2024-03-17T08:36:01.679508Z",
     "iopub.status.busy": "2024-03-17T08:36:01.678832Z",
     "iopub.status.idle": "2024-03-17T08:36:05.054847Z",
     "shell.execute_reply": "2024-03-17T08:36:05.054043Z",
     "shell.execute_reply.started": "2024-03-17T08:36:01.679473Z"
    }
   },
   "outputs": [
    {
     "data": {
      "text/html": [
       "<div>\n",
       "<style scoped>\n",
       "    .dataframe tbody tr th:only-of-type {\n",
       "        vertical-align: middle;\n",
       "    }\n",
       "\n",
       "    .dataframe tbody tr th {\n",
       "        vertical-align: top;\n",
       "    }\n",
       "\n",
       "    .dataframe thead th {\n",
       "        text-align: right;\n",
       "    }\n",
       "</style>\n",
       "<table border=\"1\" class=\"dataframe\">\n",
       "  <thead>\n",
       "    <tr style=\"text-align: right;\">\n",
       "      <th></th>\n",
       "      <th>date</th>\n",
       "      <th>nuser_id</th>\n",
       "      <th>norder_id</th>\n",
       "      <th>product_id</th>\n",
       "      <th>category</th>\n",
       "      <th>ncategory</th>\n",
       "      <th>quantity</th>\n",
       "    </tr>\n",
       "  </thead>\n",
       "  <tbody>\n",
       "    <tr>\n",
       "      <th>0</th>\n",
       "      <td>2019-10-16 13:07:59</td>\n",
       "      <td>17943</td>\n",
       "      <td>0</td>\n",
       "      <td>1923615</td>\n",
       "      <td>نوشابه</td>\n",
       "      <td>50</td>\n",
       "      <td>5</td>\n",
       "    </tr>\n",
       "    <tr>\n",
       "      <th>1</th>\n",
       "      <td>2019-10-16 13:08:30</td>\n",
       "      <td>4480</td>\n",
       "      <td>1</td>\n",
       "      <td>847929</td>\n",
       "      <td>زعفران، زرشک و تزئینات غذا</td>\n",
       "      <td>21</td>\n",
       "      <td>2</td>\n",
       "    </tr>\n",
       "    <tr>\n",
       "      <th>2</th>\n",
       "      <td>2019-10-16 13:08:30</td>\n",
       "      <td>4480</td>\n",
       "      <td>1</td>\n",
       "      <td>1754809</td>\n",
       "      <td>تن ماهی</td>\n",
       "      <td>7</td>\n",
       "      <td>1</td>\n",
       "    </tr>\n",
       "    <tr>\n",
       "      <th>3</th>\n",
       "      <td>2019-10-16 13:08:30</td>\n",
       "      <td>4480</td>\n",
       "      <td>1</td>\n",
       "      <td>490777</td>\n",
       "      <td>شکلات صبحانه</td>\n",
       "      <td>28</td>\n",
       "      <td>1</td>\n",
       "    </tr>\n",
       "    <tr>\n",
       "      <th>4</th>\n",
       "      <td>2019-10-16 13:08:30</td>\n",
       "      <td>4480</td>\n",
       "      <td>1</td>\n",
       "      <td>490637</td>\n",
       "      <td>شکلات، تافی و آبنبات</td>\n",
       "      <td>29</td>\n",
       "      <td>1</td>\n",
       "    </tr>\n",
       "    <tr>\n",
       "      <th>...</th>\n",
       "      <td>...</td>\n",
       "      <td>...</td>\n",
       "      <td>...</td>\n",
       "      <td>...</td>\n",
       "      <td>...</td>\n",
       "      <td>...</td>\n",
       "      <td>...</td>\n",
       "    </tr>\n",
       "    <tr>\n",
       "      <th>1487204</th>\n",
       "      <td>2020-05-12 09:01:52</td>\n",
       "      <td>18137</td>\n",
       "      <td>374806</td>\n",
       "      <td>464179</td>\n",
       "      <td>پفک و اسنک</td>\n",
       "      <td>53</td>\n",
       "      <td>3</td>\n",
       "    </tr>\n",
       "    <tr>\n",
       "      <th>1487205</th>\n",
       "      <td>2020-05-12 09:01:52</td>\n",
       "      <td>18137</td>\n",
       "      <td>374806</td>\n",
       "      <td>761587</td>\n",
       "      <td>چیپس و پاپ کورن</td>\n",
       "      <td>57</td>\n",
       "      <td>1</td>\n",
       "    </tr>\n",
       "    <tr>\n",
       "      <th>1487206</th>\n",
       "      <td>2020-05-12 09:01:52</td>\n",
       "      <td>18137</td>\n",
       "      <td>374806</td>\n",
       "      <td>460100</td>\n",
       "      <td>چیپس و پاپ کورن</td>\n",
       "      <td>57</td>\n",
       "      <td>1</td>\n",
       "    </tr>\n",
       "    <tr>\n",
       "      <th>1487207</th>\n",
       "      <td>2020-05-12 09:01:52</td>\n",
       "      <td>18137</td>\n",
       "      <td>374806</td>\n",
       "      <td>490671</td>\n",
       "      <td>شکلات، تافی و آبنبات</td>\n",
       "      <td>29</td>\n",
       "      <td>1</td>\n",
       "    </tr>\n",
       "    <tr>\n",
       "      <th>1487208</th>\n",
       "      <td>2020-05-12 09:01:52</td>\n",
       "      <td>18137</td>\n",
       "      <td>374806</td>\n",
       "      <td>881749</td>\n",
       "      <td>آب و آب معدنی</td>\n",
       "      <td>0</td>\n",
       "      <td>1</td>\n",
       "    </tr>\n",
       "  </tbody>\n",
       "</table>\n",
       "<p>1487209 rows × 7 columns</p>\n",
       "</div>"
      ],
      "text/plain": [
       "                        date  nuser_id  norder_id  product_id  \\\n",
       "0        2019-10-16 13:07:59     17943          0     1923615   \n",
       "1        2019-10-16 13:08:30      4480          1      847929   \n",
       "2        2019-10-16 13:08:30      4480          1     1754809   \n",
       "3        2019-10-16 13:08:30      4480          1      490777   \n",
       "4        2019-10-16 13:08:30      4480          1      490637   \n",
       "...                      ...       ...        ...         ...   \n",
       "1487204  2020-05-12 09:01:52     18137     374806      464179   \n",
       "1487205  2020-05-12 09:01:52     18137     374806      761587   \n",
       "1487206  2020-05-12 09:01:52     18137     374806      460100   \n",
       "1487207  2020-05-12 09:01:52     18137     374806      490671   \n",
       "1487208  2020-05-12 09:01:52     18137     374806      881749   \n",
       "\n",
       "                           category  ncategory  quantity  \n",
       "0                            نوشابه         50         5  \n",
       "1        زعفران، زرشک و تزئینات غذا         21         2  \n",
       "2                           تن ماهی          7         1  \n",
       "3                      شکلات صبحانه         28         1  \n",
       "4              شکلات، تافی و آبنبات         29         1  \n",
       "...                             ...        ...       ...  \n",
       "1487204                  پفک و اسنک         53         3  \n",
       "1487205             چیپس و پاپ کورن         57         1  \n",
       "1487206             چیپس و پاپ کورن         57         1  \n",
       "1487207        شکلات، تافی و آبنبات         29         1  \n",
       "1487208               آب و آب معدنی          0         1  \n",
       "\n",
       "[1487209 rows x 7 columns]"
      ]
     },
     "execution_count": 3,
     "metadata": {},
     "output_type": "execute_result"
    }
   ],
   "source": [
    "df_raw = pd.read_csv('DATA/filtered_train_data.csv')\n",
    "df_raw"
   ]
  },
  {
   "cell_type": "code",
   "execution_count": 4,
   "metadata": {
    "execution": {
     "iopub.execute_input": "2024-03-17T08:36:12.548186Z",
     "iopub.status.busy": "2024-03-17T08:36:12.547094Z",
     "iopub.status.idle": "2024-03-17T08:36:13.365248Z",
     "shell.execute_reply": "2024-03-17T08:36:13.364170Z",
     "shell.execute_reply.started": "2024-03-17T08:36:12.548139Z"
    }
   },
   "outputs": [
    {
     "data": {
      "text/html": [
       "<div>\n",
       "<style scoped>\n",
       "    .dataframe tbody tr th:only-of-type {\n",
       "        vertical-align: middle;\n",
       "    }\n",
       "\n",
       "    .dataframe tbody tr th {\n",
       "        vertical-align: top;\n",
       "    }\n",
       "\n",
       "    .dataframe thead th {\n",
       "        text-align: right;\n",
       "    }\n",
       "</style>\n",
       "<table border=\"1\" class=\"dataframe\">\n",
       "  <thead>\n",
       "    <tr style=\"text-align: right;\">\n",
       "      <th></th>\n",
       "      <th>nuser_id</th>\n",
       "      <th>0</th>\n",
       "      <th>1</th>\n",
       "      <th>2</th>\n",
       "      <th>3</th>\n",
       "      <th>4</th>\n",
       "      <th>5</th>\n",
       "      <th>6</th>\n",
       "      <th>7</th>\n",
       "      <th>8</th>\n",
       "      <th>...</th>\n",
       "      <th>56</th>\n",
       "      <th>57</th>\n",
       "      <th>58</th>\n",
       "      <th>59</th>\n",
       "      <th>60</th>\n",
       "      <th>61</th>\n",
       "      <th>62</th>\n",
       "      <th>63</th>\n",
       "      <th>64</th>\n",
       "      <th>65</th>\n",
       "    </tr>\n",
       "  </thead>\n",
       "  <tbody>\n",
       "    <tr>\n",
       "      <th>0</th>\n",
       "      <td>0</td>\n",
       "      <td>0</td>\n",
       "      <td>0</td>\n",
       "      <td>0</td>\n",
       "      <td>0</td>\n",
       "      <td>0</td>\n",
       "      <td>0</td>\n",
       "      <td>0</td>\n",
       "      <td>0</td>\n",
       "      <td>0</td>\n",
       "      <td>...</td>\n",
       "      <td>0</td>\n",
       "      <td>0</td>\n",
       "      <td>0</td>\n",
       "      <td>0</td>\n",
       "      <td>0</td>\n",
       "      <td>0</td>\n",
       "      <td>0</td>\n",
       "      <td>0</td>\n",
       "      <td>0</td>\n",
       "      <td>0</td>\n",
       "    </tr>\n",
       "    <tr>\n",
       "      <th>1</th>\n",
       "      <td>1</td>\n",
       "      <td>0</td>\n",
       "      <td>0</td>\n",
       "      <td>0</td>\n",
       "      <td>0</td>\n",
       "      <td>0</td>\n",
       "      <td>0</td>\n",
       "      <td>0</td>\n",
       "      <td>0</td>\n",
       "      <td>0</td>\n",
       "      <td>...</td>\n",
       "      <td>0</td>\n",
       "      <td>0</td>\n",
       "      <td>0</td>\n",
       "      <td>0</td>\n",
       "      <td>0</td>\n",
       "      <td>0</td>\n",
       "      <td>0</td>\n",
       "      <td>0</td>\n",
       "      <td>0</td>\n",
       "      <td>0</td>\n",
       "    </tr>\n",
       "    <tr>\n",
       "      <th>2</th>\n",
       "      <td>2</td>\n",
       "      <td>0</td>\n",
       "      <td>0</td>\n",
       "      <td>0</td>\n",
       "      <td>0</td>\n",
       "      <td>0</td>\n",
       "      <td>0</td>\n",
       "      <td>0</td>\n",
       "      <td>0</td>\n",
       "      <td>0</td>\n",
       "      <td>...</td>\n",
       "      <td>0</td>\n",
       "      <td>0</td>\n",
       "      <td>0</td>\n",
       "      <td>0</td>\n",
       "      <td>0</td>\n",
       "      <td>0</td>\n",
       "      <td>0</td>\n",
       "      <td>0</td>\n",
       "      <td>0</td>\n",
       "      <td>0</td>\n",
       "    </tr>\n",
       "    <tr>\n",
       "      <th>3</th>\n",
       "      <td>3</td>\n",
       "      <td>0</td>\n",
       "      <td>0</td>\n",
       "      <td>0</td>\n",
       "      <td>0</td>\n",
       "      <td>0</td>\n",
       "      <td>0</td>\n",
       "      <td>0</td>\n",
       "      <td>0</td>\n",
       "      <td>0</td>\n",
       "      <td>...</td>\n",
       "      <td>0</td>\n",
       "      <td>0</td>\n",
       "      <td>0</td>\n",
       "      <td>0</td>\n",
       "      <td>0</td>\n",
       "      <td>0</td>\n",
       "      <td>0</td>\n",
       "      <td>0</td>\n",
       "      <td>0</td>\n",
       "      <td>0</td>\n",
       "    </tr>\n",
       "    <tr>\n",
       "      <th>4</th>\n",
       "      <td>4</td>\n",
       "      <td>0</td>\n",
       "      <td>0</td>\n",
       "      <td>0</td>\n",
       "      <td>0</td>\n",
       "      <td>0</td>\n",
       "      <td>0</td>\n",
       "      <td>0</td>\n",
       "      <td>0</td>\n",
       "      <td>0</td>\n",
       "      <td>...</td>\n",
       "      <td>0</td>\n",
       "      <td>0</td>\n",
       "      <td>0</td>\n",
       "      <td>0</td>\n",
       "      <td>0</td>\n",
       "      <td>0</td>\n",
       "      <td>0</td>\n",
       "      <td>0</td>\n",
       "      <td>0</td>\n",
       "      <td>0</td>\n",
       "    </tr>\n",
       "    <tr>\n",
       "      <th>...</th>\n",
       "      <td>...</td>\n",
       "      <td>...</td>\n",
       "      <td>...</td>\n",
       "      <td>...</td>\n",
       "      <td>...</td>\n",
       "      <td>...</td>\n",
       "      <td>...</td>\n",
       "      <td>...</td>\n",
       "      <td>...</td>\n",
       "      <td>...</td>\n",
       "      <td>...</td>\n",
       "      <td>...</td>\n",
       "      <td>...</td>\n",
       "      <td>...</td>\n",
       "      <td>...</td>\n",
       "      <td>...</td>\n",
       "      <td>...</td>\n",
       "      <td>...</td>\n",
       "      <td>...</td>\n",
       "      <td>...</td>\n",
       "      <td>...</td>\n",
       "    </tr>\n",
       "    <tr>\n",
       "      <th>156068</th>\n",
       "      <td>156068</td>\n",
       "      <td>0</td>\n",
       "      <td>0</td>\n",
       "      <td>0</td>\n",
       "      <td>0</td>\n",
       "      <td>0</td>\n",
       "      <td>0</td>\n",
       "      <td>0</td>\n",
       "      <td>0</td>\n",
       "      <td>0</td>\n",
       "      <td>...</td>\n",
       "      <td>0</td>\n",
       "      <td>0</td>\n",
       "      <td>0</td>\n",
       "      <td>0</td>\n",
       "      <td>0</td>\n",
       "      <td>0</td>\n",
       "      <td>0</td>\n",
       "      <td>0</td>\n",
       "      <td>0</td>\n",
       "      <td>0</td>\n",
       "    </tr>\n",
       "    <tr>\n",
       "      <th>156069</th>\n",
       "      <td>156069</td>\n",
       "      <td>0</td>\n",
       "      <td>0</td>\n",
       "      <td>0</td>\n",
       "      <td>0</td>\n",
       "      <td>0</td>\n",
       "      <td>0</td>\n",
       "      <td>0</td>\n",
       "      <td>0</td>\n",
       "      <td>0</td>\n",
       "      <td>...</td>\n",
       "      <td>0</td>\n",
       "      <td>0</td>\n",
       "      <td>0</td>\n",
       "      <td>0</td>\n",
       "      <td>0</td>\n",
       "      <td>0</td>\n",
       "      <td>0</td>\n",
       "      <td>0</td>\n",
       "      <td>0</td>\n",
       "      <td>0</td>\n",
       "    </tr>\n",
       "    <tr>\n",
       "      <th>156070</th>\n",
       "      <td>156070</td>\n",
       "      <td>0</td>\n",
       "      <td>0</td>\n",
       "      <td>0</td>\n",
       "      <td>0</td>\n",
       "      <td>0</td>\n",
       "      <td>0</td>\n",
       "      <td>0</td>\n",
       "      <td>0</td>\n",
       "      <td>0</td>\n",
       "      <td>...</td>\n",
       "      <td>0</td>\n",
       "      <td>0</td>\n",
       "      <td>0</td>\n",
       "      <td>0</td>\n",
       "      <td>0</td>\n",
       "      <td>0</td>\n",
       "      <td>0</td>\n",
       "      <td>0</td>\n",
       "      <td>0</td>\n",
       "      <td>0</td>\n",
       "    </tr>\n",
       "    <tr>\n",
       "      <th>156071</th>\n",
       "      <td>156071</td>\n",
       "      <td>0</td>\n",
       "      <td>0</td>\n",
       "      <td>0</td>\n",
       "      <td>0</td>\n",
       "      <td>0</td>\n",
       "      <td>0</td>\n",
       "      <td>0</td>\n",
       "      <td>0</td>\n",
       "      <td>0</td>\n",
       "      <td>...</td>\n",
       "      <td>0</td>\n",
       "      <td>0</td>\n",
       "      <td>0</td>\n",
       "      <td>0</td>\n",
       "      <td>0</td>\n",
       "      <td>0</td>\n",
       "      <td>0</td>\n",
       "      <td>0</td>\n",
       "      <td>0</td>\n",
       "      <td>0</td>\n",
       "    </tr>\n",
       "    <tr>\n",
       "      <th>156072</th>\n",
       "      <td>156072</td>\n",
       "      <td>0</td>\n",
       "      <td>0</td>\n",
       "      <td>0</td>\n",
       "      <td>0</td>\n",
       "      <td>0</td>\n",
       "      <td>0</td>\n",
       "      <td>0</td>\n",
       "      <td>0</td>\n",
       "      <td>0</td>\n",
       "      <td>...</td>\n",
       "      <td>0</td>\n",
       "      <td>0</td>\n",
       "      <td>0</td>\n",
       "      <td>0</td>\n",
       "      <td>0</td>\n",
       "      <td>0</td>\n",
       "      <td>0</td>\n",
       "      <td>0</td>\n",
       "      <td>0</td>\n",
       "      <td>0</td>\n",
       "    </tr>\n",
       "  </tbody>\n",
       "</table>\n",
       "<p>156073 rows × 67 columns</p>\n",
       "</div>"
      ],
      "text/plain": [
       "        nuser_id  0  1  2  3  4  5  6  7  8  ...  56  57  58  59  60  61  62  \\\n",
       "0              0  0  0  0  0  0  0  0  0  0  ...   0   0   0   0   0   0   0   \n",
       "1              1  0  0  0  0  0  0  0  0  0  ...   0   0   0   0   0   0   0   \n",
       "2              2  0  0  0  0  0  0  0  0  0  ...   0   0   0   0   0   0   0   \n",
       "3              3  0  0  0  0  0  0  0  0  0  ...   0   0   0   0   0   0   0   \n",
       "4              4  0  0  0  0  0  0  0  0  0  ...   0   0   0   0   0   0   0   \n",
       "...          ... .. .. .. .. .. .. .. .. ..  ...  ..  ..  ..  ..  ..  ..  ..   \n",
       "156068    156068  0  0  0  0  0  0  0  0  0  ...   0   0   0   0   0   0   0   \n",
       "156069    156069  0  0  0  0  0  0  0  0  0  ...   0   0   0   0   0   0   0   \n",
       "156070    156070  0  0  0  0  0  0  0  0  0  ...   0   0   0   0   0   0   0   \n",
       "156071    156071  0  0  0  0  0  0  0  0  0  ...   0   0   0   0   0   0   0   \n",
       "156072    156072  0  0  0  0  0  0  0  0  0  ...   0   0   0   0   0   0   0   \n",
       "\n",
       "        63  64  65  \n",
       "0        0   0   0  \n",
       "1        0   0   0  \n",
       "2        0   0   0  \n",
       "3        0   0   0  \n",
       "4        0   0   0  \n",
       "...     ..  ..  ..  \n",
       "156068   0   0   0  \n",
       "156069   0   0   0  \n",
       "156070   0   0   0  \n",
       "156071   0   0   0  \n",
       "156072   0   0   0  \n",
       "\n",
       "[156073 rows x 67 columns]"
      ]
     },
     "execution_count": 4,
     "metadata": {},
     "output_type": "execute_result"
    }
   ],
   "source": [
    "df_out = pd.read_csv('DATA/filtered_sample_output.csv')\n",
    "df_out"
   ]
  },
  {
   "cell_type": "code",
   "execution_count": 5,
   "metadata": {
    "execution": {
     "iopub.execute_input": "2024-03-17T08:42:51.399575Z",
     "iopub.status.busy": "2024-03-17T08:42:51.398486Z",
     "iopub.status.idle": "2024-03-17T08:42:51.411636Z",
     "shell.execute_reply": "2024-03-17T08:42:51.410436Z",
     "shell.execute_reply.started": "2024-03-17T08:42:51.399536Z"
    }
   },
   "outputs": [],
   "source": [
    "def get_temporal_data(raw, use_bin = False, tempo = 'month'):\n",
    "    raw.index = pd.to_datetime(raw.date, format='%Y-%m-%d %H:%M:%S')\n",
    "    raw.index = raw.index - pd.to_timedelta(12, unit='d')\n",
    "    \n",
    "    raw = raw.drop(['norder_id', 'product_id', 'category', 'date'], axis = 1)\n",
    "    if use_bin:\n",
    "        raw = raw.drop(['quantity'], axis = 1)\n",
    "    \n",
    "    if tempo == 'month':\n",
    "        raw['t'] = raw.index.month + (raw.index.year - raw.index.year.min())*12\n",
    "        raw['t'] = raw['t'] - raw['t'].min()\n",
    "        tt = 7\n",
    "    elif tempo == 'week':\n",
    "        raw['t'] = raw.index.day_of_year + (raw.index.year - raw.index.year.min())*365\n",
    "        raw['t'] = (raw['t'] - raw['t'].min())//7\n",
    "        tt = 210//7\n",
    "    elif tempo == 'day':\n",
    "        raw['t'] = raw.index.day_of_year + (raw.index.year - raw.index.year.min())*365\n",
    "        raw['t'] = (raw['t'] - raw['t'].min())\n",
    "        tt = 210\n",
    "     \n",
    "    grouped = raw.groupby('nuser_id')\n",
    "    \n",
    "    uid = raw.nuser_id.unique()\n",
    "    uid.sort()\n",
    "    \n",
    "    quantity = []\n",
    "    for i in tqdm(uid):\n",
    "        g = grouped.get_group(i)\n",
    "        temporal = np.zeros((tt, 66))\n",
    "        for _,j,k,l in g.values:\n",
    "            temporal[l, j] += k\n",
    "        quantity.append(temporal)\n",
    "        \n",
    "    return uid, np.asarray(quantity)\n",
    "    "
   ]
  },
  {
   "cell_type": "code",
   "execution_count": 6,
   "metadata": {
    "execution": {
     "iopub.execute_input": "2024-03-17T08:42:52.516276Z",
     "iopub.status.busy": "2024-03-17T08:42:52.515844Z"
    }
   },
   "outputs": [
    {
     "name": "stderr",
     "output_type": "stream",
     "text": [
      "100%|████████████████████████████████████████████████████████████████████████| 156073/156073 [00:45<00:00, 3427.24it/s]\n"
     ]
    }
   ],
   "source": [
    "uid, data = get_temporal_data(df_raw, tempo = 'day', use_bin=False)\n"
   ]
  },
  {
   "cell_type": "code",
   "execution_count": 7,
   "metadata": {
    "execution": {
     "iopub.execute_input": "2024-03-17T08:36:55.510279Z",
     "iopub.status.busy": "2024-03-17T08:36:55.509926Z",
     "iopub.status.idle": "2024-03-17T08:36:55.516456Z",
     "shell.execute_reply": "2024-03-17T08:36:55.515615Z",
     "shell.execute_reply.started": "2024-03-17T08:36:55.510249Z"
    }
   },
   "outputs": [
    {
     "data": {
      "text/plain": [
       "(156073, 210, 66)"
      ]
     },
     "execution_count": 7,
     "metadata": {},
     "output_type": "execute_result"
    }
   ],
   "source": [
    "data.shape"
   ]
  },
  {
   "cell_type": "markdown",
   "metadata": {},
   "source": [
    "# Models"
   ]
  },
  {
   "cell_type": "markdown",
   "metadata": {},
   "source": [
    "## GRU + Customer Embedding"
   ]
  },
  {
   "cell_type": "code",
   "execution_count": 9,
   "metadata": {
    "execution": {
     "iopub.execute_input": "2024-03-17T03:47:17.940683Z",
     "iopub.status.busy": "2024-03-17T03:47:17.939797Z",
     "iopub.status.idle": "2024-03-17T03:47:18.851690Z",
     "shell.execute_reply": "2024-03-17T03:47:18.850912Z",
     "shell.execute_reply.started": "2024-03-17T03:47:17.940652Z"
    }
   },
   "outputs": [],
   "source": [
    "window = 8\n",
    "xs = []\n",
    "ys = []\n",
    "for i in range(15-window):\n",
    "    x = data[:,i:i+window]\n",
    "    y = (data[:,i+window:i+window+8].sum(axis=1)>0).astype('float')\n",
    "    xs.append(x)\n",
    "    ys.append(y)\n",
    "    "
   ]
  },
  {
   "cell_type": "code",
   "execution_count": 10,
   "metadata": {
    "execution": {
     "iopub.execute_input": "2024-03-17T03:47:18.853358Z",
     "iopub.status.busy": "2024-03-17T03:47:18.853097Z",
     "iopub.status.idle": "2024-03-17T03:47:18.859151Z",
     "shell.execute_reply": "2024-03-17T03:47:18.858113Z",
     "shell.execute_reply.started": "2024-03-17T03:47:18.853337Z"
    }
   },
   "outputs": [
    {
     "data": {
      "text/plain": [
       "7"
      ]
     },
     "execution_count": 10,
     "metadata": {},
     "output_type": "execute_result"
    }
   ],
   "source": [
    "len(xs)"
   ]
  },
  {
   "cell_type": "code",
   "execution_count": 11,
   "metadata": {
    "execution": {
     "iopub.execute_input": "2024-03-17T03:47:21.268669Z",
     "iopub.status.busy": "2024-03-17T03:47:21.268320Z",
     "iopub.status.idle": "2024-03-17T03:47:22.796720Z",
     "shell.execute_reply": "2024-03-17T03:47:22.795851Z",
     "shell.execute_reply.started": "2024-03-17T03:47:21.268643Z"
    }
   },
   "outputs": [],
   "source": [
    "ids = np.expand_dims(np.tile(uid, len(xs)), axis=1)\n",
    "xs = np.concatenate(xs, axis=0)\n",
    "ys = np.concatenate(ys, axis=0)\n"
   ]
  },
  {
   "cell_type": "code",
   "execution_count": 17,
   "metadata": {
    "execution": {
     "iopub.execute_input": "2024-03-17T03:47:45.462743Z",
     "iopub.status.busy": "2024-03-17T03:47:45.462405Z",
     "iopub.status.idle": "2024-03-17T03:47:45.599415Z",
     "shell.execute_reply": "2024-03-17T03:47:45.598348Z",
     "shell.execute_reply.started": "2024-03-17T03:47:45.462718Z"
    }
   },
   "outputs": [
    {
     "data": {
      "text/plain": [
       "(156073, 66)"
      ]
     },
     "execution_count": 17,
     "metadata": {},
     "output_type": "execute_result"
    }
   ],
   "source": [
    "x_val = data[:,14:22]\n",
    "y_val = (data[:,22:].sum(axis=1)>0).astype('float')\n",
    "ids_val = uid\n",
    "y_val.shape"
   ]
  },
  {
   "cell_type": "code",
   "execution_count": 18,
   "metadata": {
    "execution": {
     "iopub.execute_input": "2024-03-17T03:47:46.742014Z",
     "iopub.status.busy": "2024-03-17T03:47:46.741584Z",
     "iopub.status.idle": "2024-03-17T03:47:47.003368Z",
     "shell.execute_reply": "2024-03-17T03:47:47.002400Z",
     "shell.execute_reply.started": "2024-03-17T03:47:46.741981Z"
    }
   },
   "outputs": [],
   "source": [
    "tf.keras.backend.clear_session()\n",
    "input_ids = tf.keras.Input((1,))\n",
    "input_bin = tf.keras.Input((window, 66))\n",
    "\n",
    "emb = layers.Embedding(input_dim=len(uid), output_dim=16, input_length=66)(input_ids)\n",
    "emb = layers.Flatten()(emb)\n",
    "\n",
    "out = layers.GRU(16, recurrent_regularizer=tf.keras.regularizers.L2(0.1))(input_bin, initial_state=emb)\n",
    "out = layers.Dense(66)(out)\n",
    "\n",
    "model = models.Model([input_bin, input_ids], out)\n",
    "\n"
   ]
  },
  {
   "cell_type": "code",
   "execution_count": 19,
   "metadata": {
    "execution": {
     "iopub.execute_input": "2024-03-17T03:47:47.005424Z",
     "iopub.status.busy": "2024-03-17T03:47:47.005006Z",
     "iopub.status.idle": "2024-03-17T03:47:47.046235Z",
     "shell.execute_reply": "2024-03-17T03:47:47.045214Z",
     "shell.execute_reply.started": "2024-03-17T03:47:47.005393Z"
    },
    "scrolled": true
   },
   "outputs": [
    {
     "name": "stdout",
     "output_type": "stream",
     "text": [
      "Model: \"model\"\n",
      "__________________________________________________________________________________________________\n",
      " Layer (type)                Output Shape                 Param #   Connected to                  \n",
      "==================================================================================================\n",
      " input_1 (InputLayer)        [(None, 1)]                  0         []                            \n",
      "                                                                                                  \n",
      " embedding (Embedding)       (None, 1, 16)                2497168   ['input_1[0][0]']             \n",
      "                                                                                                  \n",
      " input_2 (InputLayer)        [(None, 8, 66)]              0         []                            \n",
      "                                                                                                  \n",
      " flatten (Flatten)           (None, 16)                   0         ['embedding[0][0]']           \n",
      "                                                                                                  \n",
      " gru (GRU)                   (None, 16)                   4032      ['input_2[0][0]',             \n",
      "                                                                     'flatten[0][0]']             \n",
      "                                                                                                  \n",
      " dense (Dense)               (None, 66)                   1122      ['gru[0][0]']                 \n",
      "                                                                                                  \n",
      "==================================================================================================\n",
      "Total params: 2502322 (9.55 MB)\n",
      "Trainable params: 2502322 (9.55 MB)\n",
      "Non-trainable params: 0 (0.00 Byte)\n",
      "__________________________________________________________________________________________________\n"
     ]
    }
   ],
   "source": [
    "model.compile(\n",
    "    optimizer=optimizers.Adam(), \n",
    "    loss=losses.BinaryCrossentropy(from_logits=True),\n",
    "    metrics=metrics.F1Score(average='micro')\n",
    ")\n",
    "model.summary()"
   ]
  },
  {
   "cell_type": "code",
   "execution_count": 21,
   "metadata": {
    "execution": {
     "iopub.execute_input": "2024-03-17T03:48:33.998747Z",
     "iopub.status.busy": "2024-03-17T03:48:33.998103Z",
     "iopub.status.idle": "2024-03-17T03:51:18.176237Z",
     "shell.execute_reply": "2024-03-17T03:51:18.175280Z",
     "shell.execute_reply.started": "2024-03-17T03:48:33.998717Z"
    }
   },
   "outputs": [
    {
     "name": "stderr",
     "output_type": "stream",
     "text": [
      "WARNING: All log messages before absl::InitializeLog() is called are written to STDERR\n",
      "I0000 00:00:1710647324.896445     109 device_compiler.h:186] Compiled cluster using XLA!  This line is logged at most once for the lifetime of the process.\n"
     ]
    },
    {
     "name": "stdout",
     "output_type": "stream",
     "text": [
      "34141/34141 [==============================] - 156s 4ms/step - loss: 0.0771 - f1_score: 0.0769 - val_loss: 0.2558 - val_f1_score: 0.0771\n"
     ]
    },
    {
     "data": {
      "text/plain": [
       "<keras.src.callbacks.History at 0x7fe54c563d30>"
      ]
     },
     "execution_count": 21,
     "metadata": {},
     "output_type": "execute_result"
    }
   ],
   "source": [
    "cb = [\n",
    "    callbacks.EarlyStopping(patience=2, restore_best_weights=True)\n",
    "]\n",
    "model.fit([xs, ids], ys, validation_data=([x_val, ids_val], y_val), epochs=1)"
   ]
  },
  {
   "cell_type": "code",
   "execution_count": 22,
   "metadata": {
    "execution": {
     "iopub.execute_input": "2024-03-17T03:53:07.039972Z",
     "iopub.status.busy": "2024-03-17T03:53:07.039595Z",
     "iopub.status.idle": "2024-03-17T03:53:20.682988Z",
     "shell.execute_reply": "2024-03-17T03:53:20.682166Z",
     "shell.execute_reply.started": "2024-03-17T03:53:07.039944Z"
    }
   },
   "outputs": [
    {
     "name": "stdout",
     "output_type": "stream",
     "text": [
      "4878/4878 [==============================] - 10s 2ms/step\n"
     ]
    }
   ],
   "source": [
    "p_val = tf.nn.sigmoid(model.predict([x_val, ids_val]))"
   ]
  },
  {
   "cell_type": "code",
   "execution_count": 17,
   "metadata": {
    "execution": {
     "iopub.execute_input": "2024-03-16T14:44:03.903098Z",
     "iopub.status.busy": "2024-03-16T14:44:03.902786Z",
     "iopub.status.idle": "2024-03-16T14:44:03.907375Z",
     "shell.execute_reply": "2024-03-16T14:44:03.906406Z",
     "shell.execute_reply.started": "2024-03-16T14:44:03.903073Z"
    }
   },
   "outputs": [],
   "source": [
    "# model.evaluate([x_val, ids_val], y_val)"
   ]
  },
  {
   "cell_type": "code",
   "execution_count": 18,
   "metadata": {
    "execution": {
     "iopub.execute_input": "2024-03-16T14:44:04.084650Z",
     "iopub.status.busy": "2024-03-16T14:44:04.084382Z",
     "iopub.status.idle": "2024-03-16T14:44:04.088299Z",
     "shell.execute_reply": "2024-03-16T14:44:04.087409Z",
     "shell.execute_reply.started": "2024-03-16T14:44:04.084628Z"
    }
   },
   "outputs": [],
   "source": [
    "# (p_val.numpy()>0.05).astype('int').sum()"
   ]
  },
  {
   "cell_type": "code",
   "execution_count": 19,
   "metadata": {
    "execution": {
     "iopub.execute_input": "2024-03-16T14:44:04.545948Z",
     "iopub.status.busy": "2024-03-16T14:44:04.545316Z",
     "iopub.status.idle": "2024-03-16T14:44:04.550448Z",
     "shell.execute_reply": "2024-03-16T14:44:04.549260Z",
     "shell.execute_reply.started": "2024-03-16T14:44:04.545918Z"
    }
   },
   "outputs": [],
   "source": [
    "# for i in range(100):\n",
    "#     i /= 100\n",
    "#     print('='*100)\n",
    "#     print(i)\n",
    "#     print(f1_score(y_val, p_val>i, average='micro'))"
   ]
  },
  {
   "cell_type": "code",
   "execution_count": 24,
   "metadata": {
    "execution": {
     "iopub.execute_input": "2024-03-17T03:53:59.067079Z",
     "iopub.status.busy": "2024-03-17T03:53:59.066310Z",
     "iopub.status.idle": "2024-03-17T03:54:11.226254Z",
     "shell.execute_reply": "2024-03-17T03:54:11.225168Z",
     "shell.execute_reply.started": "2024-03-17T03:53:59.067045Z"
    }
   },
   "outputs": [
    {
     "name": "stdout",
     "output_type": "stream",
     "text": [
      "4878/4878 [==============================] - 9s 2ms/step\n"
     ]
    }
   ],
   "source": [
    "p_gru = tf.nn.sigmoid(model.predict([data[:, -8:, :], uid]))"
   ]
  },
  {
   "cell_type": "code",
   "execution_count": 53,
   "metadata": {
    "execution": {
     "iopub.execute_input": "2024-03-17T04:08:14.844333Z",
     "iopub.status.busy": "2024-03-17T04:08:14.843607Z",
     "iopub.status.idle": "2024-03-17T04:08:15.010564Z",
     "shell.execute_reply": "2024-03-17T04:08:15.009747Z",
     "shell.execute_reply.started": "2024-03-17T04:08:14.844305Z"
    }
   },
   "outputs": [],
   "source": [
    "pp = (x_val.sum(axis=1)>0).astype('float') + (p_val.numpy()>0.2)>0"
   ]
  },
  {
   "cell_type": "code",
   "execution_count": 56,
   "metadata": {
    "execution": {
     "iopub.execute_input": "2024-03-17T04:08:20.155589Z",
     "iopub.status.busy": "2024-03-17T04:08:20.155209Z",
     "iopub.status.idle": "2024-03-17T04:08:22.189913Z",
     "shell.execute_reply": "2024-03-17T04:08:22.188901Z",
     "shell.execute_reply.started": "2024-03-17T04:08:20.155554Z"
    }
   },
   "outputs": [
    {
     "data": {
      "text/plain": [
       "0.08845846049508307"
      ]
     },
     "execution_count": 56,
     "metadata": {},
     "output_type": "execute_result"
    }
   ],
   "source": [
    "f1_score(y_val, pp, average='micro')"
   ]
  },
  {
   "cell_type": "markdown",
   "metadata": {},
   "source": [
    "# =================="
   ]
  },
  {
   "cell_type": "code",
   "execution_count": 115,
   "metadata": {
    "execution": {
     "iopub.execute_input": "2024-03-17T08:39:46.779125Z",
     "iopub.status.busy": "2024-03-17T08:39:46.778678Z",
     "iopub.status.idle": "2024-03-17T08:39:47.170246Z",
     "shell.execute_reply": "2024-03-17T08:39:47.169139Z",
     "shell.execute_reply.started": "2024-03-17T08:39:46.779088Z"
    }
   },
   "outputs": [
    {
     "data": {
      "image/png": "[encoded data removed]",
      "text/plain": [
       "<Figure size 640x480 with 1 Axes>"
      ]
     },
     "metadata": {},
     "output_type": "display_data"
    },
    {
     "data": {
      "image/png": "[encoded data removed]",
      "text/plain": [
       "<Figure size 640x480 with 1 Axes>"
      ]
     },
     "metadata": {},
     "output_type": "display_data"
    }
   ],
   "source": [
    "pool = np.random.choice(uid, size=2, replace=False)\n",
    "\n",
    "for i in pool:\n",
    "    a = (data[i]>0).nonzero()\n",
    "    plt.scatter(a[0]+1, a[1])\n",
    "    plt.title(f'user Num: {i}')\n",
    "    plt.xlim([1, 211])\n",
    "    plt.ylim([0, 65])\n",
    "    plt.show()"
   ]
  },
  {
   "cell_type": "code",
   "execution_count": 32,
   "metadata": {},
   "outputs": [
    {
     "data": {
      "text/plain": [
       "(210, 66)"
      ]
     },
     "execution_count": 32,
     "metadata": {},
     "output_type": "execute_result"
    }
   ],
   "source": [
    "data[0].shape"
   ]
  },
  {
   "cell_type": "markdown",
   "metadata": {},
   "source": [
    "# ========================"
   ]
  },
  {
   "cell_type": "code",
   "execution_count": 130,
   "metadata": {
    "execution": {
     "iopub.execute_input": "2024-03-16T14:44:25.046177Z",
     "iopub.status.busy": "2024-03-16T14:44:25.045808Z",
     "iopub.status.idle": "2024-03-16T14:44:29.488076Z",
     "shell.execute_reply": "2024-03-16T14:44:29.487292Z",
     "shell.execute_reply.started": "2024-03-16T14:44:25.046147Z"
    }
   },
   "outputs": [
    {
     "name": "stderr",
     "output_type": "stream",
     "text": [
      "100%|███████████████████████████████████████████████████████████████████████| 156073/156073 [00:09<00:00, 15697.30it/s]\n"
     ]
    }
   ],
   "source": [
    "p = []\n",
    "for a in tqdm(data):\n",
    "    b1 = (a.sum(axis=1)>0).astype('int')\n",
    "    b3 = a.sum()\n",
    "    b2 = (a[-60:].sum(axis=1)>0).astype('int')\n",
    "    b4 = (a[-120:].sum(axis=1)>0).astype('int')\n",
    "    if b3<=3:\n",
    "        a = np.zeros((66,))\n",
    "#     elif b2.sum()<=1:\n",
    "#         a = np.zeros((66,))\n",
    "    elif b1.sum()>3 and b2.sum()>0:\n",
    "        a = a[60:].sum(axis=0)\n",
    "    else:\n",
    "        a = a[-90:].sum(axis=0)\n",
    "    \n",
    "    p.append(a>0)\n",
    "    \n",
    "p = np.asarray(p, dtype='int')"
   ]
  },
  {
   "cell_type": "code",
   "execution_count": 131,
   "metadata": {
    "execution": {
     "iopub.execute_input": "2024-03-16T14:44:33.259490Z",
     "iopub.status.busy": "2024-03-16T14:44:33.259141Z",
     "iopub.status.idle": "2024-03-16T14:44:33.271971Z",
     "shell.execute_reply": "2024-03-16T14:44:33.271101Z",
     "shell.execute_reply.started": "2024-03-16T14:44:33.259464Z"
    }
   },
   "outputs": [
    {
     "data": {
      "text/plain": [
       "622847"
      ]
     },
     "execution_count": 131,
     "metadata": {},
     "output_type": "execute_result"
    }
   ],
   "source": [
    "p.sum()"
   ]
  },
  {
   "cell_type": "code",
   "execution_count": 132,
   "metadata": {
    "execution": {
     "iopub.execute_input": "2024-03-16T14:45:35.549027Z",
     "iopub.status.busy": "2024-03-16T14:45:35.548662Z",
     "iopub.status.idle": "2024-03-16T14:45:35.555019Z",
     "shell.execute_reply": "2024-03-16T14:45:35.554038Z",
     "shell.execute_reply.started": "2024-03-16T14:45:35.549001Z"
    }
   },
   "outputs": [
    {
     "data": {
      "text/plain": [
       "(156073, 67)"
      ]
     },
     "execution_count": 132,
     "metadata": {},
     "output_type": "execute_result"
    }
   ],
   "source": [
    "df_out.shape"
   ]
  },
  {
   "cell_type": "code",
   "execution_count": 133,
   "metadata": {
    "execution": {
     "iopub.execute_input": "2024-03-16T14:04:34.582444Z",
     "iopub.status.busy": "2024-03-16T14:04:34.582124Z",
     "iopub.status.idle": "2024-03-16T14:04:37.765818Z",
     "shell.execute_reply": "2024-03-16T14:04:37.765066Z",
     "shell.execute_reply.started": "2024-03-16T14:04:34.582419Z"
    }
   },
   "outputs": [],
   "source": [
    "df_out.values[:,1:] = p\n",
    "df_out.to_csv('result.csv')"
   ]
  },
  {
   "cell_type": "code",
   "execution_count": 137,
   "metadata": {},
   "outputs": [
    {
     "data": {
      "text/plain": [
       "array([0., 0., 0., 0., 0., 0., 0., 0., 0., 0., 0., 0., 0., 0., 0., 0., 0.,\n",
       "       0., 0., 0., 0., 0., 0., 0., 0., 0., 0., 0., 0., 0., 0., 0., 0., 0.,\n",
       "       0., 0., 0., 0., 0., 0., 0., 0., 0., 0., 0., 0., 0., 0., 0., 0., 0.,\n",
       "       0., 0., 0., 0., 0., 0., 0., 0., 0., 0., 0., 0., 0., 0., 0.])"
      ]
     },
     "execution_count": 137,
     "metadata": {},
     "output_type": "execute_result"
    }
   ],
   "source": [
    "data.reshape(-1,66)[]"
   ]
  },
  {
   "cell_type": "code",
   "execution_count": null,
   "metadata": {},
   "outputs": [],
   "source": []
  }
 ],
 "metadata": {
  "kaggle": {
   "accelerator": "none",
   "dataSources": [
    {
     "datasetId": 4496317,
     "sourceId": 7702387,
     "sourceType": "datasetVersion"
    }
   ],
   "dockerImageVersionId": 30648,
   "isGpuEnabled": false,
   "isInternetEnabled": true,
   "language": "python",
   "sourceType": "notebook"
  },
  "kernelspec": {
   "display_name": "Python 3 (ipykernel)",
   "language": "python",
   "name": "python3"
  },
  "language_info": {
   "codemirror_mode": {
    "name": "ipython",
    "version": 3
   },
   "file_extension": ".py",
   "mimetype": "text/x-python",
   "name": "python",
   "nbconvert_exporter": "python",
   "pygments_lexer": "ipython3",
   "version": "3.10.11"
  }
 },
 "nbformat": 4,
 "nbformat_minor": 4
}
